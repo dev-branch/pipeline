{
 "cells": [
  {
   "cell_type": "code",
   "execution_count": 1,
   "id": "571cce04-96cd-4d5d-9508-3584bb85ccfa",
   "metadata": {},
   "outputs": [],
   "source": [
    "%%capture\n",
    "%run common.ipy\n",
    "from fns import ColumnRename"
   ]
  },
  {
   "cell_type": "markdown",
   "id": "612fa687-95b8-4a25-8774-2945d482b790",
   "metadata": {},
   "source": [
    "![](pipeline.png)"
   ]
  },
  {
   "cell_type": "markdown",
   "id": "fd957ca7-3cb8-4070-8ce4-7649a2216d22",
   "metadata": {},
   "source": [
    "# Load Data"
   ]
  },
  {
   "cell_type": "code",
   "execution_count": 2,
   "id": "50b9f391-9a7d-4e76-bb2c-3270370fce29",
   "metadata": {},
   "outputs": [
    {
     "data": {
      "text/html": [
       "<div>\n",
       "<style scoped>\n",
       "    .dataframe tbody tr th:only-of-type {\n",
       "        vertical-align: middle;\n",
       "    }\n",
       "\n",
       "    .dataframe tbody tr th {\n",
       "        vertical-align: top;\n",
       "    }\n",
       "\n",
       "    .dataframe thead th {\n",
       "        text-align: right;\n",
       "    }\n",
       "</style>\n",
       "<table border=\"1\" class=\"dataframe\">\n",
       "  <thead>\n",
       "    <tr style=\"text-align: right;\">\n",
       "      <th></th>\n",
       "      <th>Index</th>\n",
       "      <th>Passenger Id</th>\n",
       "      <th>P class</th>\n",
       "      <th>Name</th>\n",
       "      <th>Sex</th>\n",
       "      <th>Age</th>\n",
       "      <th>Sib Sp</th>\n",
       "      <th>Parch</th>\n",
       "      <th>Ticket</th>\n",
       "      <th>Fare</th>\n",
       "      <th>Cabin</th>\n",
       "      <th>Embarked</th>\n",
       "    </tr>\n",
       "  </thead>\n",
       "  <tbody>\n",
       "    <tr>\n",
       "      <th>0</th>\n",
       "      <td>0</td>\n",
       "      <td>1</td>\n",
       "      <td>three</td>\n",
       "      <td>Braund, Mr. Owen Harris</td>\n",
       "      <td>male</td>\n",
       "      <td>22.0</td>\n",
       "      <td>1</td>\n",
       "      <td>0</td>\n",
       "      <td>A/5 21171</td>\n",
       "      <td>7.2500</td>\n",
       "      <td>NaN</td>\n",
       "      <td>S</td>\n",
       "    </tr>\n",
       "    <tr>\n",
       "      <th>1</th>\n",
       "      <td>1</td>\n",
       "      <td>2</td>\n",
       "      <td>one</td>\n",
       "      <td>Cumings, Mrs. John Bradley (Florence Briggs Th...</td>\n",
       "      <td>female</td>\n",
       "      <td>38.0</td>\n",
       "      <td>1</td>\n",
       "      <td>0</td>\n",
       "      <td>PC 17599</td>\n",
       "      <td>71.2833</td>\n",
       "      <td>C85</td>\n",
       "      <td>C</td>\n",
       "    </tr>\n",
       "    <tr>\n",
       "      <th>2</th>\n",
       "      <td>2</td>\n",
       "      <td>3</td>\n",
       "      <td>three</td>\n",
       "      <td>Heikkinen, Miss. Laina</td>\n",
       "      <td>female</td>\n",
       "      <td>26.0</td>\n",
       "      <td>0</td>\n",
       "      <td>0</td>\n",
       "      <td>STON/O2. 3101282</td>\n",
       "      <td>7.9250</td>\n",
       "      <td>NaN</td>\n",
       "      <td>S</td>\n",
       "    </tr>\n",
       "  </tbody>\n",
       "</table>\n",
       "</div>"
      ]
     },
     "execution_count": 2,
     "metadata": {},
     "output_type": "execute_result"
    }
   ],
   "source": [
    "df = pd.read_csv('data/titanic.csv')\n",
    "y = df.Survived\n",
    "X = df.drop(['Survived'], axis=1)\n",
    "X_train, X_test, y_train, y_test = train_test_split(X, y, test_size=0.33, random_state=42)\n",
    "X.head(3)"
   ]
  },
  {
   "cell_type": "code",
   "execution_count": 3,
   "id": "68d7d00c-8b1f-4773-851d-58527550eb6a",
   "metadata": {},
   "outputs": [
    {
     "name": "stdout",
     "output_type": "stream",
     "text": [
      "<class 'pandas.core.frame.DataFrame'>\n",
      "RangeIndex: 891 entries, 0 to 890\n",
      "Data columns (total 12 columns):\n",
      " #   Column        Non-Null Count  Dtype  \n",
      "---  ------        --------------  -----  \n",
      " 0   Index         891 non-null    int64  \n",
      " 1   Passenger Id  891 non-null    int64  \n",
      " 2   P class       889 non-null    object \n",
      " 3   Name          891 non-null    object \n",
      " 4   Sex           888 non-null    object \n",
      " 5   Age           714 non-null    float64\n",
      " 6   Sib Sp        891 non-null    int64  \n",
      " 7   Parch         891 non-null    int64  \n",
      " 8   Ticket        891 non-null    object \n",
      " 9   Fare          888 non-null    float64\n",
      " 10  Cabin         204 non-null    object \n",
      " 11  Embarked      889 non-null    object \n",
      "dtypes: float64(2), int64(4), object(6)\n",
      "memory usage: 83.7+ KB\n"
     ]
    }
   ],
   "source": [
    "X.info()"
   ]
  },
  {
   "cell_type": "code",
   "execution_count": 4,
   "id": "f8dab721-7213-4c1c-abbe-0dba3a0ab0ed",
   "metadata": {},
   "outputs": [
    {
     "data": {
      "text/html": [
       "<pre style=\"white-space:pre;overflow-x:auto;line-height:normal;font-family:Menlo,'DejaVu Sans Mono',consolas,'Courier New',monospace\">\n",
       "Index             <span style=\"color: #008080; text-decoration-color: #008080; font-weight: bold\">0</span>\n",
       "Passenger Id      <span style=\"color: #008080; text-decoration-color: #008080; font-weight: bold\">0</span>\n",
       "P class           <span style=\"color: #008080; text-decoration-color: #008080; font-weight: bold\">2</span>\n",
       "Name              <span style=\"color: #008080; text-decoration-color: #008080; font-weight: bold\">0</span>\n",
       "Sex               <span style=\"color: #008080; text-decoration-color: #008080; font-weight: bold\">3</span>\n",
       "Age             <span style=\"color: #008080; text-decoration-color: #008080; font-weight: bold\">177</span>\n",
       "Sib Sp            <span style=\"color: #008080; text-decoration-color: #008080; font-weight: bold\">0</span>\n",
       "Parch             <span style=\"color: #008080; text-decoration-color: #008080; font-weight: bold\">0</span>\n",
       "Ticket            <span style=\"color: #008080; text-decoration-color: #008080; font-weight: bold\">0</span>\n",
       "Fare              <span style=\"color: #008080; text-decoration-color: #008080; font-weight: bold\">3</span>\n",
       "Cabin           <span style=\"color: #008080; text-decoration-color: #008080; font-weight: bold\">687</span>\n",
       "Embarked          <span style=\"color: #008080; text-decoration-color: #008080; font-weight: bold\">2</span>\n",
       "dtype: int64\n",
       "</pre>\n"
      ],
      "text/plain": [
       "\n",
       "Index             \u001b[1;36m0\u001b[0m\n",
       "Passenger Id      \u001b[1;36m0\u001b[0m\n",
       "P class           \u001b[1;36m2\u001b[0m\n",
       "Name              \u001b[1;36m0\u001b[0m\n",
       "Sex               \u001b[1;36m3\u001b[0m\n",
       "Age             \u001b[1;36m177\u001b[0m\n",
       "Sib Sp            \u001b[1;36m0\u001b[0m\n",
       "Parch             \u001b[1;36m0\u001b[0m\n",
       "Ticket            \u001b[1;36m0\u001b[0m\n",
       "Fare              \u001b[1;36m3\u001b[0m\n",
       "Cabin           \u001b[1;36m687\u001b[0m\n",
       "Embarked          \u001b[1;36m2\u001b[0m\n",
       "dtype: int64\n"
      ]
     },
     "metadata": {},
     "output_type": "display_data"
    }
   ],
   "source": [
    "X.isna().sum()"
   ]
  },
  {
   "cell_type": "markdown",
   "id": "0b569758-6195-4b98-9aaf-4e9eb394d7d7",
   "metadata": {},
   "source": [
    "# Install Nightly `sklearn`\n",
    "\n",
    "- https://scikit-learn.org/stable/developers/advanced_installation.html\n",
    "- `pip install --pre --extra-index https://pypi.anaconda.org/scipy-wheels-nightly/simple scikit-learn --upgrade`"
   ]
  },
  {
   "cell_type": "markdown",
   "id": "89c745f4-06ea-40d3-934a-be15bad25e53",
   "metadata": {},
   "source": [
    "# Notes\n",
    "\n",
    "- Every step in a Pipeline produces a new DataFrame or Matrix\n",
    "- Every step in a Column Transformer is adding a new column to that new DataFrame or Matrix produced by the Pipeline"
   ]
  },
  {
   "cell_type": "markdown",
   "id": "1fe9d2a4-3aed-4121-ba2c-b2c53f2f4248",
   "metadata": {},
   "source": [
    "# Column Transformers"
   ]
  },
  {
   "cell_type": "code",
   "execution_count": 5,
   "id": "874d80ec-adfb-45c8-83de-bb860daf3623",
   "metadata": {},
   "outputs": [],
   "source": [
    "imputer = ColumnTransformer([\n",
    "    ('drop_features', 'drop', ['index', 'passenger_id', 'name', 'ticket', 'cabin']),\n",
    "    ('impute_mean', SimpleImputer(strategy='mean'), ['age', 'sib_sp', 'parch', 'fare']),\n",
    "    ('impute_mode', SimpleImputer(strategy='most_frequent'), ['p_class', 'sex', 'embarked']),\n",
    "], remainder='passthrough', verbose_feature_names_out=False)"
   ]
  },
  {
   "cell_type": "code",
   "execution_count": 6,
   "id": "80566862-0ac3-4ba8-bab0-56aa1d180103",
   "metadata": {},
   "outputs": [],
   "source": [
    "encoder = ColumnTransformer([\n",
    "    ('ord_enc', OrdinalEncoder(categories=[['one', 'two', 'three']], handle_unknown='use_encoded_value', unknown_value=3), ['p_class']),\n",
    "    ('one_hot', OneHotEncoder(handle_unknown='ignore'), ['sex', 'embarked'])\n",
    "], remainder='passthrough', verbose_feature_names_out=False)"
   ]
  },
  {
   "cell_type": "code",
   "execution_count": 7,
   "id": "4352de2e-0fa5-41d7-93e6-8ecefccc405a",
   "metadata": {},
   "outputs": [],
   "source": [
    "poly = ColumnTransformer([\n",
    "    ('poly', PolynomialFeatures(include_bias=False, degree=3), ['fare'])\n",
    "], remainder='passthrough', verbose_feature_names_out=False)"
   ]
  },
  {
   "cell_type": "code",
   "execution_count": 8,
   "id": "1b780f72-ec50-4490-9fa8-9499a604cc82",
   "metadata": {},
   "outputs": [],
   "source": [
    "scalar = ColumnTransformer([\n",
    "    ('robust', RobustScaler(), ['age', 'sib_sp', 'parch', 'fare', 'fare^2', 'fare^3'])\n",
    "], remainder='passthrough', verbose_feature_names_out=False)"
   ]
  },
  {
   "cell_type": "markdown",
   "id": "6c8609d8-3260-47f8-a6ba-fc393a10f010",
   "metadata": {},
   "source": [
    "# Pipelines"
   ]
  },
  {
   "cell_type": "code",
   "execution_count": 9,
   "id": "3a71bcc3-65e1-49c3-be84-d43ac204651e",
   "metadata": {},
   "outputs": [],
   "source": [
    "datapipe = Pipeline(steps=[\n",
    "    ('rename', ColumnRename()),\n",
    "    ('imputer', imputer),\n",
    "    ('df1', FunctionTransformer(lambda matrix: pd.DataFrame(matrix, columns=imputer.get_feature_names_out()), feature_names_out='one-to-one')),\n",
    "    ('encoder', encoder),\n",
    "    ('df2', FunctionTransformer(lambda matrix: pd.DataFrame(matrix, columns=encoder.get_feature_names_out()), feature_names_out='one-to-one')),\n",
    "    ('poly', poly),\n",
    "    ('df3', FunctionTransformer(lambda matrix: pd.DataFrame(matrix, columns=poly.get_feature_names_out()), feature_names_out='one-to-one')),\n",
    "    ('scalar', scalar),\n",
    "    ('df4', FunctionTransformer(lambda matrix: pd.DataFrame(matrix, columns=scalar.get_feature_names_out()).astype('float64'), feature_names_out='one-to-one'))\n",
    "])"
   ]
  },
  {
   "cell_type": "markdown",
   "id": "05abc732-69fd-421f-85b1-a125e0322479",
   "metadata": {},
   "source": [
    "# Transform X"
   ]
  },
  {
   "cell_type": "code",
   "execution_count": 10,
   "id": "92c71a55-f0ae-4a46-823c-a8a7371aff82",
   "metadata": {},
   "outputs": [],
   "source": [
    "X_tr = datapipe.fit_transform(X_train)\n",
    "X_ts = datapipe.transform(X_test)"
   ]
  },
  {
   "cell_type": "markdown",
   "id": "35cc6f01-aff6-466e-a44a-947707e2e30a",
   "metadata": {},
   "source": [
    "# Verify X"
   ]
  },
  {
   "cell_type": "code",
   "execution_count": 11,
   "id": "4695a2b5-d332-41c9-a9ec-3b0d04f69cae",
   "metadata": {},
   "outputs": [
    {
     "data": {
      "text/html": [
       "<div>\n",
       "<style scoped>\n",
       "    .dataframe tbody tr th:only-of-type {\n",
       "        vertical-align: middle;\n",
       "    }\n",
       "\n",
       "    .dataframe tbody tr th {\n",
       "        vertical-align: top;\n",
       "    }\n",
       "\n",
       "    .dataframe thead th {\n",
       "        text-align: right;\n",
       "    }\n",
       "</style>\n",
       "<table border=\"1\" class=\"dataframe\">\n",
       "  <thead>\n",
       "    <tr style=\"text-align: right;\">\n",
       "      <th></th>\n",
       "      <th>age</th>\n",
       "      <th>sib_sp</th>\n",
       "      <th>parch</th>\n",
       "      <th>fare</th>\n",
       "      <th>fare^2</th>\n",
       "      <th>fare^3</th>\n",
       "      <th>p_class</th>\n",
       "      <th>sex_female</th>\n",
       "      <th>sex_male</th>\n",
       "      <th>embarked_C</th>\n",
       "      <th>embarked_Q</th>\n",
       "      <th>embarked_S</th>\n",
       "    </tr>\n",
       "  </thead>\n",
       "  <tbody>\n",
       "    <tr>\n",
       "      <th>0</th>\n",
       "      <td>1.882617</td>\n",
       "      <td>0.0</td>\n",
       "      <td>0.0</td>\n",
       "      <td>1.601981</td>\n",
       "      <td>2.710239</td>\n",
       "      <td>4.535067</td>\n",
       "      <td>0.0</td>\n",
       "      <td>0.0</td>\n",
       "      <td>1.0</td>\n",
       "      <td>0.0</td>\n",
       "      <td>0.0</td>\n",
       "      <td>1.0</td>\n",
       "    </tr>\n",
       "    <tr>\n",
       "      <th>1</th>\n",
       "      <td>0.000000</td>\n",
       "      <td>0.0</td>\n",
       "      <td>0.0</td>\n",
       "      <td>0.044700</td>\n",
       "      <td>0.034159</td>\n",
       "      <td>0.023353</td>\n",
       "      <td>2.0</td>\n",
       "      <td>0.0</td>\n",
       "      <td>1.0</td>\n",
       "      <td>0.0</td>\n",
       "      <td>1.0</td>\n",
       "      <td>0.0</td>\n",
       "    </tr>\n",
       "    <tr>\n",
       "      <th>2</th>\n",
       "      <td>-0.348153</td>\n",
       "      <td>1.0</td>\n",
       "      <td>2.0</td>\n",
       "      <td>1.161582</td>\n",
       "      <td>1.660454</td>\n",
       "      <td>2.288304</td>\n",
       "      <td>1.0</td>\n",
       "      <td>0.0</td>\n",
       "      <td>1.0</td>\n",
       "      <td>1.0</td>\n",
       "      <td>0.0</td>\n",
       "      <td>0.0</td>\n",
       "    </tr>\n",
       "  </tbody>\n",
       "</table>\n",
       "</div>"
      ]
     },
     "execution_count": 11,
     "metadata": {},
     "output_type": "execute_result"
    }
   ],
   "source": [
    "X_tr.head(3)"
   ]
  },
  {
   "cell_type": "code",
   "execution_count": 12,
   "id": "a23352d9-41b9-4af3-a54a-b14b47cc24e0",
   "metadata": {},
   "outputs": [
    {
     "name": "stdout",
     "output_type": "stream",
     "text": [
      "<class 'pandas.core.frame.DataFrame'>\n",
      "RangeIndex: 596 entries, 0 to 595\n",
      "Data columns (total 12 columns):\n",
      " #   Column      Non-Null Count  Dtype  \n",
      "---  ------      --------------  -----  \n",
      " 0   age         596 non-null    float64\n",
      " 1   sib_sp      596 non-null    float64\n",
      " 2   parch       596 non-null    float64\n",
      " 3   fare        596 non-null    float64\n",
      " 4   fare^2      596 non-null    float64\n",
      " 5   fare^3      596 non-null    float64\n",
      " 6   p_class     596 non-null    float64\n",
      " 7   sex_female  596 non-null    float64\n",
      " 8   sex_male    596 non-null    float64\n",
      " 9   embarked_C  596 non-null    float64\n",
      " 10  embarked_Q  596 non-null    float64\n",
      " 11  embarked_S  596 non-null    float64\n",
      "dtypes: float64(12)\n",
      "memory usage: 56.0 KB\n"
     ]
    }
   ],
   "source": [
    "X_tr.info()"
   ]
  },
  {
   "cell_type": "code",
   "execution_count": 13,
   "id": "a6846434-02f4-4e39-9b12-c1f01a05963f",
   "metadata": {},
   "outputs": [
    {
     "data": {
      "text/html": [
       "<pre style=\"white-space:pre;overflow-x:auto;line-height:normal;font-family:Menlo,'DejaVu Sans Mono',consolas,'Courier New',monospace\">\n",
       "age           <span style=\"color: #008080; text-decoration-color: #008080; font-weight: bold\">0</span>\n",
       "sib_sp        <span style=\"color: #008080; text-decoration-color: #008080; font-weight: bold\">0</span>\n",
       "parch         <span style=\"color: #008080; text-decoration-color: #008080; font-weight: bold\">0</span>\n",
       "fare          <span style=\"color: #008080; text-decoration-color: #008080; font-weight: bold\">0</span>\n",
       "fare^<span style=\"color: #008080; text-decoration-color: #008080; font-weight: bold\">2</span>        <span style=\"color: #008080; text-decoration-color: #008080; font-weight: bold\">0</span>\n",
       "fare^<span style=\"color: #008080; text-decoration-color: #008080; font-weight: bold\">3</span>        <span style=\"color: #008080; text-decoration-color: #008080; font-weight: bold\">0</span>\n",
       "p_class       <span style=\"color: #008080; text-decoration-color: #008080; font-weight: bold\">0</span>\n",
       "sex_female    <span style=\"color: #008080; text-decoration-color: #008080; font-weight: bold\">0</span>\n",
       "sex_male      <span style=\"color: #008080; text-decoration-color: #008080; font-weight: bold\">0</span>\n",
       "embarked_C    <span style=\"color: #008080; text-decoration-color: #008080; font-weight: bold\">0</span>\n",
       "embarked_Q    <span style=\"color: #008080; text-decoration-color: #008080; font-weight: bold\">0</span>\n",
       "embarked_S    <span style=\"color: #008080; text-decoration-color: #008080; font-weight: bold\">0</span>\n",
       "dtype: int64\n",
       "</pre>\n"
      ],
      "text/plain": [
       "\n",
       "age           \u001b[1;36m0\u001b[0m\n",
       "sib_sp        \u001b[1;36m0\u001b[0m\n",
       "parch         \u001b[1;36m0\u001b[0m\n",
       "fare          \u001b[1;36m0\u001b[0m\n",
       "fare^\u001b[1;36m2\u001b[0m        \u001b[1;36m0\u001b[0m\n",
       "fare^\u001b[1;36m3\u001b[0m        \u001b[1;36m0\u001b[0m\n",
       "p_class       \u001b[1;36m0\u001b[0m\n",
       "sex_female    \u001b[1;36m0\u001b[0m\n",
       "sex_male      \u001b[1;36m0\u001b[0m\n",
       "embarked_C    \u001b[1;36m0\u001b[0m\n",
       "embarked_Q    \u001b[1;36m0\u001b[0m\n",
       "embarked_S    \u001b[1;36m0\u001b[0m\n",
       "dtype: int64\n"
      ]
     },
     "metadata": {},
     "output_type": "display_data"
    }
   ],
   "source": [
    "X_tr.isna().sum()"
   ]
  },
  {
   "cell_type": "markdown",
   "id": "44b06697-6aca-46ee-af2e-1c41d734f8ee",
   "metadata": {},
   "source": [
    "# GridSearch"
   ]
  },
  {
   "cell_type": "code",
   "execution_count": 14,
   "id": "17663860-954e-49b9-8058-84364e346365",
   "metadata": {},
   "outputs": [
    {
     "name": "stdout",
     "output_type": "stream",
     "text": [
      "Fitting 5 folds for each of 72 candidates, totalling 360 fits\n"
     ]
    },
    {
     "data": {
      "text/html": [
       "<pre style=\"white-space:pre;overflow-x:auto;line-height:normal;font-family:Menlo,'DejaVu Sans Mono',consolas,'Courier New',monospace\"><span style=\"font-weight: bold\">(</span><span style=\"color: #008080; text-decoration-color: #008080; font-weight: bold\">0.8188375350140056</span>, <span style=\"font-weight: bold\">{</span><span style=\"color: #008000; text-decoration-color: #008000\">'criterion'</span>: <span style=\"color: #008000; text-decoration-color: #008000\">'gini'</span>, <span style=\"color: #008000; text-decoration-color: #008000\">'max_depth'</span>: <span style=\"color: #008080; text-decoration-color: #008080; font-weight: bold\">4</span>, <span style=\"color: #008000; text-decoration-color: #008000\">'splitter'</span>: <span style=\"color: #008000; text-decoration-color: #008000\">'random'</span><span style=\"font-weight: bold\">})</span>\n",
       "</pre>\n"
      ],
      "text/plain": [
       "\u001b[1m(\u001b[0m\u001b[1;36m0.8188375350140056\u001b[0m, \u001b[1m{\u001b[0m\u001b[32m'criterion'\u001b[0m: \u001b[32m'gini'\u001b[0m, \u001b[32m'max_depth'\u001b[0m: \u001b[1;36m4\u001b[0m, \u001b[32m'splitter'\u001b[0m: \u001b[32m'random'\u001b[0m\u001b[1m}\u001b[0m\u001b[1m)\u001b[0m\n"
      ]
     },
     "metadata": {},
     "output_type": "display_data"
    }
   ],
   "source": [
    "parameters = {\n",
    "    'criterion': ['gini', 'entropy'],\n",
    "    'splitter': ['best', 'random'],\n",
    "    'max_depth': range(2, 20)\n",
    "}\n",
    "\n",
    "model = DecisionTreeClassifier()\n",
    "gs = GridSearchCV(model, parameters, cv=5, n_jobs=-1, verbose=1)\n",
    "gs.fit(X_tr, y_train)\n",
    "gs.best_score_, gs.best_params_"
   ]
  },
  {
   "cell_type": "markdown",
   "id": "80b24a04-416f-42e1-91c8-4f6952c98e75",
   "metadata": {},
   "source": [
    "# Final Model"
   ]
  },
  {
   "cell_type": "code",
   "execution_count": 15,
   "id": "1b02ab25-f032-41bd-9971-c52c96dbe0c2",
   "metadata": {},
   "outputs": [
    {
     "data": {
      "text/html": [
       "<pre style=\"white-space:pre;overflow-x:auto;line-height:normal;font-family:Menlo,'DejaVu Sans Mono',consolas,'Courier New',monospace\"><span style=\"color: #008080; text-decoration-color: #008080; font-weight: bold\">0.8</span>\n",
       "</pre>\n"
      ],
      "text/plain": [
       "\u001b[1;36m0.8\u001b[0m\n"
      ]
     },
     "metadata": {},
     "output_type": "display_data"
    }
   ],
   "source": [
    "final = DecisionTreeClassifier(**gs.best_params_).fit(X_tr, y_train)\n",
    "final.score(X_ts, y_test)"
   ]
  },
  {
   "cell_type": "code",
   "execution_count": null,
   "id": "5344a336-f25a-4c11-930a-f661e054fb58",
   "metadata": {},
   "outputs": [],
   "source": []
  }
 ],
 "metadata": {
  "kernelspec": {
   "display_name": "Python 3 (ipykernel)",
   "language": "python",
   "name": "python3"
  },
  "language_info": {
   "codemirror_mode": {
    "name": "ipython",
    "version": 3
   },
   "file_extension": ".py",
   "mimetype": "text/x-python",
   "name": "python",
   "nbconvert_exporter": "python",
   "pygments_lexer": "ipython3",
   "version": "3.10.0"
  }
 },
 "nbformat": 4,
 "nbformat_minor": 5
}
