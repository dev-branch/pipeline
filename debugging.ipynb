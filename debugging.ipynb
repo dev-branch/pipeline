{
 "cells": [
  {
   "cell_type": "code",
   "execution_count": 32,
   "id": "63f25470-acfb-4b5e-a6b8-52c705204f9f",
   "metadata": {},
   "outputs": [],
   "source": [
    "%%capture\n",
    "%run notebook.ipynb"
   ]
  },
  {
   "cell_type": "code",
   "execution_count": 33,
   "id": "b5d4fcbe-b11e-4286-a060-9030d498ae7f",
   "metadata": {},
   "outputs": [],
   "source": [
    "X_tr = datapipe.fit_transform(X_train)\n",
    "X_ts = datapipe.transform(X_test)"
   ]
  },
  {
   "cell_type": "code",
   "execution_count": 34,
   "id": "7041700d-7ac3-424e-b21a-8de59aaedfb3",
   "metadata": {},
   "outputs": [
    {
     "data": {
      "text/html": [
       "<div>\n",
       "<style scoped>\n",
       "    .dataframe tbody tr th:only-of-type {\n",
       "        vertical-align: middle;\n",
       "    }\n",
       "\n",
       "    .dataframe tbody tr th {\n",
       "        vertical-align: top;\n",
       "    }\n",
       "\n",
       "    .dataframe thead th {\n",
       "        text-align: right;\n",
       "    }\n",
       "</style>\n",
       "<table border=\"1\" class=\"dataframe\">\n",
       "  <thead>\n",
       "    <tr style=\"text-align: right;\">\n",
       "      <th></th>\n",
       "      <th>age</th>\n",
       "      <th>sib_sp</th>\n",
       "      <th>parch</th>\n",
       "      <th>fare</th>\n",
       "      <th>p_class</th>\n",
       "      <th>sex_female</th>\n",
       "      <th>sex_male</th>\n",
       "      <th>embarked_C</th>\n",
       "      <th>embarked_Q</th>\n",
       "      <th>embarked_S</th>\n",
       "    </tr>\n",
       "  </thead>\n",
       "  <tbody>\n",
       "    <tr>\n",
       "      <th>0</th>\n",
       "      <td>1.882617</td>\n",
       "      <td>0.0</td>\n",
       "      <td>0.0</td>\n",
       "      <td>1.601981</td>\n",
       "      <td>0.0</td>\n",
       "      <td>0.0</td>\n",
       "      <td>1.0</td>\n",
       "      <td>0.0</td>\n",
       "      <td>0.0</td>\n",
       "      <td>1.0</td>\n",
       "    </tr>\n",
       "    <tr>\n",
       "      <th>1</th>\n",
       "      <td>0.000000</td>\n",
       "      <td>0.0</td>\n",
       "      <td>0.0</td>\n",
       "      <td>0.044700</td>\n",
       "      <td>2.0</td>\n",
       "      <td>0.0</td>\n",
       "      <td>1.0</td>\n",
       "      <td>0.0</td>\n",
       "      <td>1.0</td>\n",
       "      <td>0.0</td>\n",
       "    </tr>\n",
       "    <tr>\n",
       "      <th>2</th>\n",
       "      <td>-0.348153</td>\n",
       "      <td>1.0</td>\n",
       "      <td>2.0</td>\n",
       "      <td>1.161582</td>\n",
       "      <td>1.0</td>\n",
       "      <td>0.0</td>\n",
       "      <td>1.0</td>\n",
       "      <td>1.0</td>\n",
       "      <td>0.0</td>\n",
       "      <td>0.0</td>\n",
       "    </tr>\n",
       "  </tbody>\n",
       "</table>\n",
       "</div>"
      ]
     },
     "execution_count": 34,
     "metadata": {},
     "output_type": "execute_result"
    }
   ],
   "source": [
    "X_tr.head(3)"
   ]
  },
  {
   "cell_type": "markdown",
   "id": "e4b90d9d-979b-4655-a744-48644d2345da",
   "metadata": {},
   "source": [
    "# Remove and Add values from P-Class"
   ]
  },
  {
   "cell_type": "code",
   "execution_count": 35,
   "id": "e46993f2-f4b1-465e-9475-de0d63b7a5a8",
   "metadata": {},
   "outputs": [
    {
     "data": {
      "text/html": [
       "<pre style=\"white-space:pre;overflow-x:auto;line-height:normal;font-family:Menlo,'DejaVu Sans Mono',consolas,'Courier New',monospace\">\n",
       "three    <span style=\"color: #008080; text-decoration-color: #008080; font-weight: bold\">154</span>\n",
       "one       <span style=\"color: #008080; text-decoration-color: #008080; font-weight: bold\">81</span>\n",
       "five       <span style=\"color: #008080; text-decoration-color: #008080; font-weight: bold\">1</span>\n",
       "Name: P class, dtype: int64\n",
       "</pre>\n"
      ],
      "text/plain": [
       "\n",
       "three    \u001b[1;36m154\u001b[0m\n",
       "one       \u001b[1;36m81\u001b[0m\n",
       "five       \u001b[1;36m1\u001b[0m\n",
       "Name: P class, dtype: int64\n"
      ]
     },
     "metadata": {},
     "output_type": "display_data"
    }
   ],
   "source": [
    "x_test_no_2_add_5 = X_test[X_test['P class'] != 'two']\n",
    "x_test_no_2_add_5.loc[709, 'P class'] = 'five'\n",
    "x_test_no_2_add_5['P class'].value_counts()"
   ]
  },
  {
   "cell_type": "code",
   "execution_count": 36,
   "id": "3e8b24a0-a9e5-41bf-bb41-c498e038eca6",
   "metadata": {},
   "outputs": [
    {
     "data": {
      "text/html": [
       "<pre style=\"white-space:pre;overflow-x:auto;line-height:normal;font-family:Menlo,'DejaVu Sans Mono',consolas,'Courier New',monospace\">\n",
       "<span style=\"color: #008080; text-decoration-color: #008080; font-weight: bold\">2.0</span>    <span style=\"color: #008080; text-decoration-color: #008080; font-weight: bold\">154</span>\n",
       "<span style=\"color: #008080; text-decoration-color: #008080; font-weight: bold\">0.0</span>     <span style=\"color: #008080; text-decoration-color: #008080; font-weight: bold\">81</span>\n",
       "<span style=\"color: #008080; text-decoration-color: #008080; font-weight: bold\">3.0</span>      <span style=\"color: #008080; text-decoration-color: #008080; font-weight: bold\">1</span>\n",
       "Name: p_class, dtype: int64\n",
       "</pre>\n"
      ],
      "text/plain": [
       "\n",
       "\u001b[1;36m2.0\u001b[0m    \u001b[1;36m154\u001b[0m\n",
       "\u001b[1;36m0.0\u001b[0m     \u001b[1;36m81\u001b[0m\n",
       "\u001b[1;36m3.0\u001b[0m      \u001b[1;36m1\u001b[0m\n",
       "Name: p_class, dtype: int64\n"
      ]
     },
     "metadata": {},
     "output_type": "display_data"
    }
   ],
   "source": [
    "datapipe.transform(x_test_no_2_add_5).p_class.value_counts()"
   ]
  },
  {
   "cell_type": "markdown",
   "id": "43224b3f-54ef-47c7-9183-c394c0b6bf3c",
   "metadata": {},
   "source": [
    "# Remove and Add values from Embarked"
   ]
  },
  {
   "cell_type": "code",
   "execution_count": 37,
   "id": "52dd5028-7343-4cc9-a940-d9e134858184",
   "metadata": {},
   "outputs": [
    {
     "data": {
      "text/html": [
       "<pre style=\"white-space:pre;overflow-x:auto;line-height:normal;font-family:Menlo,'DejaVu Sans Mono',consolas,'Courier New',monospace\">\n",
       "S    <span style=\"color: #008080; text-decoration-color: #008080; font-weight: bold\">207</span>\n",
       "C     <span style=\"color: #008080; text-decoration-color: #008080; font-weight: bold\">62</span>\n",
       "Z      <span style=\"color: #008080; text-decoration-color: #008080; font-weight: bold\">1</span>\n",
       "Name: Embarked, dtype: int64\n",
       "</pre>\n"
      ],
      "text/plain": [
       "\n",
       "S    \u001b[1;36m207\u001b[0m\n",
       "C     \u001b[1;36m62\u001b[0m\n",
       "Z      \u001b[1;36m1\u001b[0m\n",
       "Name: Embarked, dtype: int64\n"
      ]
     },
     "metadata": {},
     "output_type": "display_data"
    }
   ],
   "source": [
    "x_test_no_q_add_z = X_test[X_test['Embarked'] != 'Q']\n",
    "x_test_no_q_add_z.loc[709, 'Embarked'] = 'Z'\n",
    "x_test_no_q_add_z['Embarked'].value_counts()"
   ]
  },
  {
   "cell_type": "code",
   "execution_count": 40,
   "id": "3f68a676-89fa-4953-96fb-4d4824adc514",
   "metadata": {},
   "outputs": [
    {
     "data": {
      "text/html": [
       "<div>\n",
       "<style scoped>\n",
       "    .dataframe tbody tr th:only-of-type {\n",
       "        vertical-align: middle;\n",
       "    }\n",
       "\n",
       "    .dataframe tbody tr th {\n",
       "        vertical-align: top;\n",
       "    }\n",
       "\n",
       "    .dataframe thead th {\n",
       "        text-align: right;\n",
       "    }\n",
       "</style>\n",
       "<table border=\"1\" class=\"dataframe\">\n",
       "  <thead>\n",
       "    <tr style=\"text-align: right;\">\n",
       "      <th></th>\n",
       "      <th>age</th>\n",
       "      <th>sib_sp</th>\n",
       "      <th>parch</th>\n",
       "      <th>fare</th>\n",
       "      <th>p_class</th>\n",
       "      <th>sex_female</th>\n",
       "      <th>sex_male</th>\n",
       "      <th>embarked_C</th>\n",
       "      <th>embarked_Q</th>\n",
       "      <th>embarked_S</th>\n",
       "    </tr>\n",
       "  </thead>\n",
       "  <tbody>\n",
       "    <tr>\n",
       "      <th>0</th>\n",
       "      <td>0.000000</td>\n",
       "      <td>1.0</td>\n",
       "      <td>1.0</td>\n",
       "      <td>0.033814</td>\n",
       "      <td>2.0</td>\n",
       "      <td>0.0</td>\n",
       "      <td>1.0</td>\n",
       "      <td>0.0</td>\n",
       "      <td>0.0</td>\n",
       "      <td>0.0</td>\n",
       "    </tr>\n",
       "    <tr>\n",
       "      <th>1</th>\n",
       "      <td>0.113386</td>\n",
       "      <td>0.0</td>\n",
       "      <td>0.0</td>\n",
       "      <td>-0.169433</td>\n",
       "      <td>1.0</td>\n",
       "      <td>0.0</td>\n",
       "      <td>1.0</td>\n",
       "      <td>0.0</td>\n",
       "      <td>0.0</td>\n",
       "      <td>1.0</td>\n",
       "    </tr>\n",
       "    <tr>\n",
       "      <th>2</th>\n",
       "      <td>-0.732768</td>\n",
       "      <td>0.0</td>\n",
       "      <td>0.0</td>\n",
       "      <td>-0.279711</td>\n",
       "      <td>2.0</td>\n",
       "      <td>0.0</td>\n",
       "      <td>1.0</td>\n",
       "      <td>0.0</td>\n",
       "      <td>0.0</td>\n",
       "      <td>1.0</td>\n",
       "    </tr>\n",
       "    <tr>\n",
       "      <th>3</th>\n",
       "      <td>-1.809691</td>\n",
       "      <td>0.0</td>\n",
       "      <td>1.0</td>\n",
       "      <td>0.794165</td>\n",
       "      <td>1.0</td>\n",
       "      <td>1.0</td>\n",
       "      <td>0.0</td>\n",
       "      <td>0.0</td>\n",
       "      <td>0.0</td>\n",
       "      <td>1.0</td>\n",
       "    </tr>\n",
       "    <tr>\n",
       "      <th>4</th>\n",
       "      <td>-1.194306</td>\n",
       "      <td>1.0</td>\n",
       "      <td>0.0</td>\n",
       "      <td>-0.137668</td>\n",
       "      <td>2.0</td>\n",
       "      <td>1.0</td>\n",
       "      <td>0.0</td>\n",
       "      <td>1.0</td>\n",
       "      <td>0.0</td>\n",
       "      <td>0.0</td>\n",
       "    </tr>\n",
       "  </tbody>\n",
       "</table>\n",
       "</div>"
      ]
     },
     "execution_count": 40,
     "metadata": {},
     "output_type": "execute_result"
    }
   ],
   "source": [
    "datapipe.transform(x_test_no_q_add_z).head()"
   ]
  },
  {
   "cell_type": "code",
   "execution_count": null,
   "id": "4ba12e29-eb3f-4c2a-ad98-fd0bb27889af",
   "metadata": {},
   "outputs": [],
   "source": []
  }
 ],
 "metadata": {
  "kernelspec": {
   "display_name": "Python 3 (ipykernel)",
   "language": "python",
   "name": "python3"
  },
  "language_info": {
   "codemirror_mode": {
    "name": "ipython",
    "version": 3
   },
   "file_extension": ".py",
   "mimetype": "text/x-python",
   "name": "python",
   "nbconvert_exporter": "python",
   "pygments_lexer": "ipython3",
   "version": "3.10.0"
  }
 },
 "nbformat": 4,
 "nbformat_minor": 5
}
